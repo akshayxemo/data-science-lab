{
  "cells": [
    {
      "cell_type": "markdown",
      "metadata": {
        "id": "view-in-github",
        "colab_type": "text"
      },
      "source": [
        "<a href=\"https://colab.research.google.com/github/akshayxemo/data-science-lab/blob/main/final_gauss.ipynb\" target=\"_parent\"><img src=\"https://colab.research.google.com/assets/colab-badge.svg\" alt=\"Open In Colab\"/></a>"
      ]
    },
    {
      "cell_type": "code",
      "execution_count": null,
      "metadata": {
        "id": "ynkr8uXfIBKZ"
      },
      "outputs": [],
      "source": [
        "import numpy as np\n",
        "\n",
        "def gauss_seidel(A, b, x0, w, max_iter, tol):\n",
        "    n = len(b)\n",
        "    x = x0.copy()\n",
        "\n",
        "    for k in range(max_iter):\n",
        "        for i in range(n):\n",
        "            x[i] = (1 - w) * x[i] + (w / A[i, i]) * (b[i] - np.dot(A[i, :i], x[:i]) - np.dot(A[i, i+1:], x[i+1:]))\n",
        "        residual = np.linalg.norm(np.dot(A, x) - b)\n",
        "        if residual < tol:\n",
        "            break\n",
        "\n",
        "    return x"
      ]
    },
    {
      "cell_type": "code",
      "execution_count": null,
      "metadata": {
        "id": "AlN1I-OgIBKa"
      },
      "outputs": [],
      "source": [
        "# Define the system of equations and parameters\n",
        "n = 5\n",
        "A = np.diag(2 * np.ones(n)) + np.diag(-1 * np.ones(n-1), k=1) + np.diag(-1 * np.ones(n-1), k=-1)\n",
        "b = np.array([-(n/4) + (i/2) for i in range(1, n+1)])\n",
        "x0 = np.zeros(n)\n",
        "max_iter = 1000\n",
        "tol = 1e-6"
      ]
    },
    {
      "cell_type": "code",
      "execution_count": null,
      "metadata": {
        "id": "2-koZjn3IBKa",
        "outputId": "17ac120e-dcb6-44c0-a32a-dd785c2b7875"
      },
      "outputs": [
        {
          "name": "stdout",
          "output_type": "stream",
          "text": [
            "[-0.20833443  0.33333151  1.12499799  1.666665    1.45833242]\n"
          ]
        }
      ],
      "source": [
        "x_solution = gauss_seidel(A, b, x0, 0.5, max_iter, tol)\n",
        "print(x_solution)"
      ]
    },
    {
      "cell_type": "code",
      "execution_count": null,
      "metadata": {
        "id": "5VjIEGEJIBKb",
        "outputId": "f036db76-a980-48e8-92da-4148300b8df0"
      },
      "outputs": [
        {
          "name": "stdout",
          "output_type": "stream",
          "text": [
            "Solution with w=0.8:\n",
            "[-0.20833446  0.33333155  1.12499812  1.66666518  1.45833255]\n",
            "Solution with w=1:\n",
            "[-0.20833425  0.33333196  1.12499863  1.66666564  1.45833282]\n",
            "Solution with w=1.2:\n",
            "[-0.20833431  0.333332    1.12499879  1.66666585  1.45833296]\n",
            "Solution with w=1.7:\n",
            "[-0.20833348  0.3333332   1.12500025  1.66666732  1.45833394]\n"
          ]
        }
      ],
      "source": [
        "relaxation_factors = [0.8, 1, 1.2, 1.7]\n",
        "for w in relaxation_factors:\n",
        "    x_solution = gauss_seidel(A, b, x0, w, max_iter, tol)\n",
        "    print(f\"Solution with w={w}:\")\n",
        "    print(x_solution)"
      ]
    },
    {
      "cell_type": "code",
      "execution_count": null,
      "metadata": {
        "id": "5ZRfWfhfIBKb",
        "outputId": "f76ac5d0-8740-4162-e2a2-e3e454a5c0eb"
      },
      "outputs": [
        {
          "name": "stdout",
          "output_type": "stream",
          "text": [
            "Solution with diagonal elements = 4:\n",
            "[-0.05208356  0.08333299  0.28124966  0.41666641  0.3645832 ]\n"
          ]
        }
      ],
      "source": [
        "# Change diagonal elements to 4\n",
        "A2 = 4 * A\n",
        "solution2 = gauss_seidel(A2, b, x0, 1.0, max_iter, tol)\n",
        "print(\"Solution with diagonal elements = 4:\")\n",
        "print(solution2)"
      ]
    },
    {
      "cell_type": "code",
      "execution_count": null,
      "metadata": {
        "id": "y4FckKuUIBKb",
        "outputId": "e74733d9-33a4-4e32-b070-cb1592f7609b"
      },
      "outputs": [
        {
          "name": "stdout",
          "output_type": "stream",
          "text": [
            "Solution with diagonal elements = 4:\n",
            "[-0.03472237  0.05555533  0.18749977  0.27777761  0.24305547]\n"
          ]
        }
      ],
      "source": [
        "# Change diagonal elements to 4\n",
        "A2 = 6 * A\n",
        "solution2 = gauss_seidel(A2, b, x0, 1.0, max_iter, tol)\n",
        "print(\"Solution with diagonal elements = 4:\")\n",
        "print(solution2)"
      ]
    }
  ],
  "metadata": {
    "kernelspec": {
      "display_name": "Python 3",
      "language": "python",
      "name": "python3"
    },
    "language_info": {
      "codemirror_mode": {
        "name": "ipython",
        "version": 3
      },
      "file_extension": ".py",
      "mimetype": "text/x-python",
      "name": "python",
      "nbconvert_exporter": "python",
      "pygments_lexer": "ipython3",
      "version": "3.11.2"
    },
    "colab": {
      "provenance": [],
      "include_colab_link": true
    }
  },
  "nbformat": 4,
  "nbformat_minor": 0
}